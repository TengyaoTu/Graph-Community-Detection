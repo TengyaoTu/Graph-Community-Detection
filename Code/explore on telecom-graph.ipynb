{
 "cells": [
  {
   "cell_type": "code",
   "execution_count": 1,
   "id": "067710ac-3961-426d-a8ce-7bc20dc3c107",
   "metadata": {},
   "outputs": [
    {
     "name": "stdout",
     "output_type": "stream",
     "text": [
      "----start to read node.-----------------------\n",
      "After adding package nodes: 380 nodes\n",
      "After adding app nodes: 1380 nodes\n",
      "After adding user nodes: 101380 nodes\n",
      "After adding cell nodes: 170380 nodes\n",
      "-----all nodes is read already.----------------\n",
      "----------start to read edge.----------------------\n",
      "----------1--------------------\n",
      "After first addition, number of edges: 1900000\n",
      "----------2--------------------\n",
      "After second addition, number of edges: 8800000\n",
      "----------3--------------------\n",
      "After third addition, number of edges: 8900000\n",
      "---------all edge is read already.------------------\n"
     ]
    }
   ],
   "source": [
    "# 读取节点数据\n",
    "import networkx as nx\n",
    "import matplotlib.pyplot as plt\n",
    "import gc\n",
    "\n",
    "\n",
    "##----------read nodes function-------------------------------------\n",
    "def read_nodes(file_path, node_type):\n",
    "    with open(file_path, 'r') as file:\n",
    "        nodes = [line.strip() for line in file]\n",
    "    node_data = {}\n",
    "    for node_str in nodes:\n",
    "        node_parts = node_str.split(',')\n",
    "        node_id = node_type + node_parts[0]\n",
    "        #features = list(map(float, node_parts[1:]))\n",
    "        features = ''  ##For common community detection algorithm,you don't need any features.\n",
    "        node_data[node_id] = {'node_type': node_type, 'features': features}\n",
    "    return node_data\n",
    "\n",
    "\n",
    "##--------------------------------------------------------------------\n",
    "\n",
    "\n",
    "##------------read edge function-----------------------------------------------\n",
    "def read_edges_incremental(file_path, edge_type, node_type_map):\n",
    "    with open(file_path, 'r') as file:\n",
    "        for line in file:\n",
    "            edge_str = line.strip()\n",
    "            edge_parts = edge_str.split(',')\n",
    "            node1 = node_type_map[0] + edge_parts[0]\n",
    "            node2 = node_type_map[1] + edge_parts[1]\n",
    "            #features = list(map(float, edge_parts[2:]))\n",
    "            features=''\n",
    "            node1_type = node_type_map[0]\n",
    "            node2_type = node_type_map[1]\n",
    "            yield (node1, node2,\n",
    "                   {'edge_type': edge_type, 'features': features})\n",
    "\n",
    "\n",
    "##---------------------------------------------------------------------------------------\n",
    "\n",
    "\n",
    "print(\"----start to read node.-----------------------\")\n",
    "app_nodes = read_nodes('telecom-graph//node_app.txt', 'app')\n",
    "package_nodes = read_nodes('telecom-graph//node_package.txt', 'package')\n",
    "user_nodes = read_nodes('telecom-graph//node_user.txt', 'user')\n",
    "cell_nodes = read_nodes('telecom-graph//node_cell.txt', 'cell')\n",
    "G = nx.Graph()\n",
    "# 添加 package 节点并输出节点数量\n",
    "for node_id, data in package_nodes.items():\n",
    "    G.add_node(node_id, **data)\n",
    "print(f\"After adding package nodes: {len(G.nodes())} nodes\")\n",
    "\n",
    "# 添加 app 节点并输出节点数量\n",
    "for node_id, data in app_nodes.items():\n",
    "    G.add_node(node_id, **data)\n",
    "print(f\"After adding app nodes: {len(G.nodes())} nodes\")\n",
    "\n",
    "# 添加 user 节点并输出节点数量\n",
    "for node_id, data in user_nodes.items():\n",
    "    G.add_node(node_id, **data)\n",
    "print(f\"After adding user nodes: {len(G.nodes())} nodes\")\n",
    "\n",
    "# 添加 cell 节点并输出节点数量\n",
    "for node_id, data in cell_nodes.items():\n",
    "    G.add_node(node_id, **data)\n",
    "print(f\"After adding cell nodes: {len(G.nodes())} nodes\")\n",
    "print(\"-----all nodes is read already.----------------\")\n",
    "\n",
    "print(\"----------start to read edge.----------------------\")\n",
    "\n",
    "print(\"----------1--------------------\")\n",
    "for edge in read_edges_incremental('telecom-graph//edge_user_buy_package.txt', 'buy',\n",
    "                                   ['user', 'package']):\n",
    "    G.add_edge(edge[0], edge[1], **edge[2])\n",
    "# 打印图的信息，检查是否添加了边\n",
    "print(f\"After first addition, number of edges: {G.number_of_edges()}\")\n",
    "# 进行垃圾回收，释放内存\n",
    "gc.collect()\n",
    "\n",
    "print(\"----------2--------------------\")\n",
    "for edge in read_edges_incremental('telecom-graph//edge_user_live_cell.txt', 'live',\n",
    "                                   ['user', 'cell']):\n",
    "    G.add_edge(edge[0], edge[1], **edge[2])\n",
    "\n",
    "# 进行垃圾回收，释放内存\n",
    "gc.collect()\n",
    "print(f\"After second addition, number of edges: {G.number_of_edges()}\")\n",
    "print(\"----------3--------------------\")\n",
    "for edge in read_edges_incremental('telecom-graph//edge_user_use_app.txt', 'use',\n",
    "                                   ['user', 'app']):\n",
    "    G.add_edge(edge[0], edge[1], **edge[2])\n",
    "\n",
    "# 进行垃圾回收，释放内存\n",
    "gc.collect()\n",
    "print(f\"After third addition, number of edges: {G.number_of_edges()}\")\n",
    "print(\"---------all edge is read already.------------------\")\n",
    "\n",
    "#nx.write_graphml(G, \"telecom_network_1.graphml\")\n",
    "#print(\"Writing done!!\")"
   ]
  },
  {
   "cell_type": "code",
   "execution_count": 2,
   "id": "e5eadae8-3689-4a63-8959-e4e2b67a6663",
   "metadata": {},
   "outputs": [
    {
     "name": "stdout",
     "output_type": "stream",
     "text": [
      "App Neighbors Count:50\n",
      "Package Neighbors Count:19\n",
      "Cell Neighbors Count:3450\n",
      "User Neighbors Count:5000\n"
     ]
    }
   ],
   "source": [
    "# 获取所有连通分量\n",
    "connected_components = list(nx.connected_components(G))\n",
    "\n",
    "# 按连通分量的大小进行排序，并获取前20个\n",
    "connected_components = sorted(connected_components, key=len, reverse=True)[:20]\n",
    "app_count=0\n",
    "package_count=0\n",
    "cell_count=0\n",
    "user_count=0\n",
    "for node in connected_components[10]:\n",
    "    if 'package' in node:\n",
    "        package_count=package_count+1\n",
    "    if 'app' in node:\n",
    "        app_count=app_count+1\n",
    "    if 'cell' in node:\n",
    "        cell_count=cell_count+1\n",
    "    if 'user' in node:\n",
    "        user_count=user_count+1\n",
    "print(f\"App Neighbors Count:{app_count}\")\n",
    "print(f\"Package Neighbors Count:{package_count}\")\n",
    "print(f\"Cell Neighbors Count:{cell_count}\")\n",
    "print(f\"User Neighbors Count:{user_count}\")"
   ]
  },
  {
   "cell_type": "code",
   "execution_count": 3,
   "id": "97cd9bb7-1da0-42b0-87cb-62f7d04eefeb",
   "metadata": {},
   "outputs": [],
   "source": [
    "subgraph = G.subgraph(connected_components[0])"
   ]
  },
  {
   "cell_type": "code",
   "execution_count": 4,
   "id": "6a57d2f4-177d-4f08-9c19-59dd0086999a",
   "metadata": {},
   "outputs": [],
   "source": [
    "pagerank=nx.pagerank(subgraph,alpha=0.8)"
   ]
  },
  {
   "cell_type": "code",
   "execution_count": 6,
   "id": "80296150-492c-45d9-9c6d-d3a88c1c573a",
   "metadata": {},
   "outputs": [
    {
     "name": "stdout",
     "output_type": "stream",
     "text": [
      "PageRank 最高的前 5 个节点及其 PageRank 值：\n",
      "节点 package120: PageRank = 0.0046\n",
      "节点 package140: PageRank = 0.0046\n",
      "节点 package340: PageRank = 0.0046\n",
      "节点 package300: PageRank = 0.0046\n",
      "节点 package360: PageRank = 0.0046\n"
     ]
    }
   ],
   "source": [
    "# 获取 PageRank 最高的前 5 个节点\n",
    "top_5_pagerank = sorted(pagerank.items(), key=lambda item: item[1], reverse=True)[:5]\n",
    "\n",
    "# 输出结果\n",
    "print(\"PageRank 最高的前 5 个节点及其 PageRank 值：\")\n",
    "for node, rank in top_5_pagerank:\n",
    "    print(f\"节点 {node}: PageRank = {rank:.4f}\")"
   ]
  },
  {
   "cell_type": "code",
   "execution_count": 10,
   "id": "b192c7b6-faee-4f88-a47f-f71f3d0f46d4",
   "metadata": {},
   "outputs": [
    {
     "name": "stdout",
     "output_type": "stream",
     "text": [
      "0.00011549185018012377\n"
     ]
    }
   ],
   "source": [
    "for node,rank in pagerank.items():\n",
    "    if 'app' in node:\n",
    "        print(rank)\n",
    "        break"
   ]
  },
  {
   "cell_type": "code",
   "execution_count": 12,
   "id": "f9f1a60d-e0ec-4a2d-aa89-406e310e83c1",
   "metadata": {},
   "outputs": [
    {
     "name": "stdout",
     "output_type": "stream",
     "text": [
      "0.0001015836584341875\n"
     ]
    }
   ],
   "source": [
    "for node,rank in pagerank.items():\n",
    "    if 'user' in node:\n",
    "        print(rank)\n",
    "        break"
   ]
  },
  {
   "cell_type": "code",
   "execution_count": 13,
   "id": "735279fa-245d-49b4-8576-7c31e570c814",
   "metadata": {},
   "outputs": [
    {
     "name": "stdout",
     "output_type": "stream",
     "text": [
      "0.00011549185018012377\n"
     ]
    }
   ],
   "source": [
    "for node,rank in pagerank.items():\n",
    "    if 'cell' in node:\n",
    "        print(rank)\n",
    "        break"
   ]
  },
  {
   "cell_type": "code",
   "execution_count": 17,
   "id": "9be9a06c-07f6-46fd-8880-6b4f6668f35f",
   "metadata": {},
   "outputs": [
    {
     "data": {
      "text/plain": [
       "0.012264892687287874"
      ]
     },
     "execution_count": 17,
     "metadata": {},
     "output_type": "execute_result"
    }
   ],
   "source": [
    "nx.density(subgraph)"
   ]
  },
  {
   "cell_type": "code",
   "execution_count": 23,
   "id": "f031316f-031a-420f-9226-d309f2f750e0",
   "metadata": {},
   "outputs": [],
   "source": [
    "num_nodes = subgraph.number_of_nodes()\n",
    "num_edges = subgraph.number_of_edges()"
   ]
  },
  {
   "cell_type": "code",
   "execution_count": 24,
   "id": "b7a6ac2e-8c45-4c5d-82fa-7e2ee5709747",
   "metadata": {},
   "outputs": [
    {
     "data": {
      "text/plain": [
       "445000"
      ]
     },
     "execution_count": 24,
     "metadata": {},
     "output_type": "execute_result"
    }
   ],
   "source": [
    "num_edges"
   ]
  },
  {
   "cell_type": "code",
   "execution_count": 26,
   "id": "7363a7db-ff62-4a74-803b-37ca516047f6",
   "metadata": {},
   "outputs": [
    {
     "data": {
      "text/plain": [
       "77097.41208796296"
      ]
     },
     "execution_count": 26,
     "metadata": {},
     "output_type": "execute_result"
    }
   ],
   "source": [
    "import numpy as np\n",
    "num_nodes*np.log(num_nodes)"
   ]
  },
  {
   "cell_type": "code",
   "execution_count": 38,
   "id": "fd7bb8b2-f2c7-4a1f-8055-ff976de63b31",
   "metadata": {},
   "outputs": [
    {
     "data": {
      "text/plain": [
       "[]"
      ]
     },
     "execution_count": 38,
     "metadata": {},
     "output_type": "execute_result"
    }
   ],
   "source": [
    "list(nx.bridges(subgraph))"
   ]
  },
  {
   "cell_type": "code",
   "execution_count": null,
   "id": "d5a23d6d-41d7-4fe9-a9c7-d55a417b6f85",
   "metadata": {},
   "outputs": [],
   "source": []
  },
  {
   "cell_type": "code",
   "execution_count": null,
   "id": "6587c252-19bb-4246-af75-f180bf2cc057",
   "metadata": {},
   "outputs": [],
   "source": []
  }
 ],
 "metadata": {
  "kernelspec": {
   "display_name": "PyTorch-1.8",
   "language": "python",
   "name": "pytorch-1.8"
  },
  "language_info": {
   "codemirror_mode": {
    "name": "ipython",
    "version": 3
   },
   "file_extension": ".py",
   "mimetype": "text/x-python",
   "name": "python",
   "nbconvert_exporter": "python",
   "pygments_lexer": "ipython3",
   "version": "3.7.10"
  }
 },
 "nbformat": 4,
 "nbformat_minor": 5
}
